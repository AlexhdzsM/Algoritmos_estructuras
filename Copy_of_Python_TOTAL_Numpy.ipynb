{
  "nbformat": 4,
  "nbformat_minor": 0,
  "metadata": {
    "colab": {
      "provenance": []
    },
    "kernelspec": {
      "name": "python3",
      "display_name": "Python 3"
    },
    "language_info": {
      "name": "python"
    }
  },
  "cells": [
    {
      "cell_type": "markdown",
      "metadata": {
        "id": "MuYB4pE_viZG"
      },
      "source": [
        "# Práctica de la librería Numpy\n",
        "\n",
        "En este notebook, se desarrollarán una serie de tareas utilizando la librería Numpy (Numerical Python).\n",
        "\n",
        "Se proponen y documentan posibles formas de resolver los ejercicios, pero las mismas no son únicas.\n",
        "\n",
        "Siempre es una buena idea verificar la [Documentación Oficial de Numpy](https://numpy.org/devdocs/user/index.html), donde es posible encontrar todo tipo de información referida a esta librería. Y si te quedas trabado, busca en Google \"como hacer [algo] con Numpy\". Hay enormes probabilidades de que esa pregunta ya haya sido respondida!"
      ]
    },
    {
      "cell_type": "code",
      "metadata": {
        "id": "Hrz__kvsviZL"
      },
      "source": [
        "# Importamos Numpy con su abreviación \"np\"\n",
        "import numpy as np"
      ],
      "execution_count": 1,
      "outputs": []
    },
    {
      "cell_type": "code",
      "metadata": {
        "id": "9fwuO-3_viZM"
      },
      "source": [
        "# Podemos crear arrays de una dimensión con la función np.array()\n",
        "array_unidim = np.array([1, 2, 3, 4, 5])\n",
        "\n",
        "# O un array de dos dimensiones (bidimensional)\n",
        "array_bidim = np.array([[1, 2, 3],\n",
        "                        [4, 5, 6]])\n",
        "\n",
        "# O un array de tres dimensiones (tridimensional)\n",
        "array_tridim = np.array([[[1, 2, 3],\n",
        "                            [4, 5, 6]],\n",
        "                            [[7, 8, 9],\n",
        "                             [10, 11, 12]]])"
      ],
      "execution_count": 2,
      "outputs": []
    },
    {
      "cell_type": "markdown",
      "metadata": {
        "id": "qp2_ZpJXviZN"
      },
      "source": [
        "Para cada uno de estos arrays, podemos obtener sus propiedades, tales como su \"forma\", número de dimensiones, tipos de datos y tamaño."
      ]
    },
    {
      "cell_type": "code",
      "metadata": {
        "id": "m2HD8334viZN",
        "colab": {
          "base_uri": "https://localhost:8080/"
        },
        "outputId": "13a3da7d-93ce-488c-d68f-aedf277a0ac4"
      },
      "source": [
        "# Atributos del array unidimensional (forma, número de dimensiones, tipos de datos, tamaño, y tipo)\n",
        "array_unidim.shape, array_unidim.ndim, array_unidim.dtype, array_unidim.size, type(array_unidim)"
      ],
      "execution_count": 3,
      "outputs": [
        {
          "output_type": "execute_result",
          "data": {
            "text/plain": [
              "((5,), 1, dtype('int64'), 5, numpy.ndarray)"
            ]
          },
          "metadata": {},
          "execution_count": 3
        }
      ]
    },
    {
      "cell_type": "code",
      "metadata": {
        "id": "CW6dU4z6viZO",
        "colab": {
          "base_uri": "https://localhost:8080/"
        },
        "outputId": "5e8d7597-84ee-4a42-e73f-a451defe560b"
      },
      "source": [
        "# Atributos del array bidimensional\n",
        "array_bidim.shape, array_bidim.ndim, array_bidim.dtype, array_bidim.size, type(array_bidim)"
      ],
      "execution_count": 4,
      "outputs": [
        {
          "output_type": "execute_result",
          "data": {
            "text/plain": [
              "((2, 3), 2, dtype('int64'), 6, numpy.ndarray)"
            ]
          },
          "metadata": {},
          "execution_count": 4
        }
      ]
    },
    {
      "cell_type": "code",
      "metadata": {
        "id": "2dQw-98tviZP",
        "colab": {
          "base_uri": "https://localhost:8080/"
        },
        "outputId": "d70d9da5-a613-420a-89fc-11a43d6c594a"
      },
      "source": [
        "# Atributos del array tridimensional\n",
        "array_tridim.shape, array_tridim.ndim, array_tridim.dtype, array_tridim.size, type(array_tridim)"
      ],
      "execution_count": 5,
      "outputs": [
        {
          "output_type": "execute_result",
          "data": {
            "text/plain": [
              "((2, 2, 3), 3, dtype('int64'), 12, numpy.ndarray)"
            ]
          },
          "metadata": {},
          "execution_count": 5
        }
      ]
    },
    {
      "cell_type": "code",
      "metadata": {
        "id": "bqWXuSpEviZQ",
        "colab": {
          "base_uri": "https://localhost:8080/",
          "height": 125
        },
        "outputId": "cf1cb402-1d8e-439d-c4b6-4277e71881b8"
      },
      "source": [
        "# Importamos pandas como pd, y creamos un DataFrame a partir del array bidimensional\n",
        "import pandas as pd\n",
        "\n",
        "datos = pd.DataFrame(array_bidim)\n",
        "datos"
      ],
      "execution_count": 6,
      "outputs": [
        {
          "output_type": "execute_result",
          "data": {
            "text/plain": [
              "   0  1  2\n",
              "0  1  2  3\n",
              "1  4  5  6"
            ],
            "text/html": [
              "\n",
              "  <div id=\"df-4f8543fa-c255-4f53-9043-63dcf8bbd92b\" class=\"colab-df-container\">\n",
              "    <div>\n",
              "<style scoped>\n",
              "    .dataframe tbody tr th:only-of-type {\n",
              "        vertical-align: middle;\n",
              "    }\n",
              "\n",
              "    .dataframe tbody tr th {\n",
              "        vertical-align: top;\n",
              "    }\n",
              "\n",
              "    .dataframe thead th {\n",
              "        text-align: right;\n",
              "    }\n",
              "</style>\n",
              "<table border=\"1\" class=\"dataframe\">\n",
              "  <thead>\n",
              "    <tr style=\"text-align: right;\">\n",
              "      <th></th>\n",
              "      <th>0</th>\n",
              "      <th>1</th>\n",
              "      <th>2</th>\n",
              "    </tr>\n",
              "  </thead>\n",
              "  <tbody>\n",
              "    <tr>\n",
              "      <th>0</th>\n",
              "      <td>1</td>\n",
              "      <td>2</td>\n",
              "      <td>3</td>\n",
              "    </tr>\n",
              "    <tr>\n",
              "      <th>1</th>\n",
              "      <td>4</td>\n",
              "      <td>5</td>\n",
              "      <td>6</td>\n",
              "    </tr>\n",
              "  </tbody>\n",
              "</table>\n",
              "</div>\n",
              "    <div class=\"colab-df-buttons\">\n",
              "\n",
              "  <div class=\"colab-df-container\">\n",
              "    <button class=\"colab-df-convert\" onclick=\"convertToInteractive('df-4f8543fa-c255-4f53-9043-63dcf8bbd92b')\"\n",
              "            title=\"Convert this dataframe to an interactive table.\"\n",
              "            style=\"display:none;\">\n",
              "\n",
              "  <svg xmlns=\"http://www.w3.org/2000/svg\" height=\"24px\" viewBox=\"0 -960 960 960\">\n",
              "    <path d=\"M120-120v-720h720v720H120Zm60-500h600v-160H180v160Zm220 220h160v-160H400v160Zm0 220h160v-160H400v160ZM180-400h160v-160H180v160Zm440 0h160v-160H620v160ZM180-180h160v-160H180v160Zm440 0h160v-160H620v160Z\"/>\n",
              "  </svg>\n",
              "    </button>\n",
              "\n",
              "  <style>\n",
              "    .colab-df-container {\n",
              "      display:flex;\n",
              "      gap: 12px;\n",
              "    }\n",
              "\n",
              "    .colab-df-convert {\n",
              "      background-color: #E8F0FE;\n",
              "      border: none;\n",
              "      border-radius: 50%;\n",
              "      cursor: pointer;\n",
              "      display: none;\n",
              "      fill: #1967D2;\n",
              "      height: 32px;\n",
              "      padding: 0 0 0 0;\n",
              "      width: 32px;\n",
              "    }\n",
              "\n",
              "    .colab-df-convert:hover {\n",
              "      background-color: #E2EBFA;\n",
              "      box-shadow: 0px 1px 2px rgba(60, 64, 67, 0.3), 0px 1px 3px 1px rgba(60, 64, 67, 0.15);\n",
              "      fill: #174EA6;\n",
              "    }\n",
              "\n",
              "    .colab-df-buttons div {\n",
              "      margin-bottom: 4px;\n",
              "    }\n",
              "\n",
              "    [theme=dark] .colab-df-convert {\n",
              "      background-color: #3B4455;\n",
              "      fill: #D2E3FC;\n",
              "    }\n",
              "\n",
              "    [theme=dark] .colab-df-convert:hover {\n",
              "      background-color: #434B5C;\n",
              "      box-shadow: 0px 1px 3px 1px rgba(0, 0, 0, 0.15);\n",
              "      filter: drop-shadow(0px 1px 2px rgba(0, 0, 0, 0.3));\n",
              "      fill: #FFFFFF;\n",
              "    }\n",
              "  </style>\n",
              "\n",
              "    <script>\n",
              "      const buttonEl =\n",
              "        document.querySelector('#df-4f8543fa-c255-4f53-9043-63dcf8bbd92b button.colab-df-convert');\n",
              "      buttonEl.style.display =\n",
              "        google.colab.kernel.accessAllowed ? 'block' : 'none';\n",
              "\n",
              "      async function convertToInteractive(key) {\n",
              "        const element = document.querySelector('#df-4f8543fa-c255-4f53-9043-63dcf8bbd92b');\n",
              "        const dataTable =\n",
              "          await google.colab.kernel.invokeFunction('convertToInteractive',\n",
              "                                                    [key], {});\n",
              "        if (!dataTable) return;\n",
              "\n",
              "        const docLinkHtml = 'Like what you see? Visit the ' +\n",
              "          '<a target=\"_blank\" href=https://colab.research.google.com/notebooks/data_table.ipynb>data table notebook</a>'\n",
              "          + ' to learn more about interactive tables.';\n",
              "        element.innerHTML = '';\n",
              "        dataTable['output_type'] = 'display_data';\n",
              "        await google.colab.output.renderOutput(dataTable, element);\n",
              "        const docLink = document.createElement('div');\n",
              "        docLink.innerHTML = docLinkHtml;\n",
              "        element.appendChild(docLink);\n",
              "      }\n",
              "    </script>\n",
              "  </div>\n",
              "\n",
              "\n",
              "<div id=\"df-ecbab732-9e35-4d56-837b-412e187c5eb7\">\n",
              "  <button class=\"colab-df-quickchart\" onclick=\"quickchart('df-ecbab732-9e35-4d56-837b-412e187c5eb7')\"\n",
              "            title=\"Suggest charts\"\n",
              "            style=\"display:none;\">\n",
              "\n",
              "<svg xmlns=\"http://www.w3.org/2000/svg\" height=\"24px\"viewBox=\"0 0 24 24\"\n",
              "     width=\"24px\">\n",
              "    <g>\n",
              "        <path d=\"M19 3H5c-1.1 0-2 .9-2 2v14c0 1.1.9 2 2 2h14c1.1 0 2-.9 2-2V5c0-1.1-.9-2-2-2zM9 17H7v-7h2v7zm4 0h-2V7h2v10zm4 0h-2v-4h2v4z\"/>\n",
              "    </g>\n",
              "</svg>\n",
              "  </button>\n",
              "\n",
              "<style>\n",
              "  .colab-df-quickchart {\n",
              "      --bg-color: #E8F0FE;\n",
              "      --fill-color: #1967D2;\n",
              "      --hover-bg-color: #E2EBFA;\n",
              "      --hover-fill-color: #174EA6;\n",
              "      --disabled-fill-color: #AAA;\n",
              "      --disabled-bg-color: #DDD;\n",
              "  }\n",
              "\n",
              "  [theme=dark] .colab-df-quickchart {\n",
              "      --bg-color: #3B4455;\n",
              "      --fill-color: #D2E3FC;\n",
              "      --hover-bg-color: #434B5C;\n",
              "      --hover-fill-color: #FFFFFF;\n",
              "      --disabled-bg-color: #3B4455;\n",
              "      --disabled-fill-color: #666;\n",
              "  }\n",
              "\n",
              "  .colab-df-quickchart {\n",
              "    background-color: var(--bg-color);\n",
              "    border: none;\n",
              "    border-radius: 50%;\n",
              "    cursor: pointer;\n",
              "    display: none;\n",
              "    fill: var(--fill-color);\n",
              "    height: 32px;\n",
              "    padding: 0;\n",
              "    width: 32px;\n",
              "  }\n",
              "\n",
              "  .colab-df-quickchart:hover {\n",
              "    background-color: var(--hover-bg-color);\n",
              "    box-shadow: 0 1px 2px rgba(60, 64, 67, 0.3), 0 1px 3px 1px rgba(60, 64, 67, 0.15);\n",
              "    fill: var(--button-hover-fill-color);\n",
              "  }\n",
              "\n",
              "  .colab-df-quickchart-complete:disabled,\n",
              "  .colab-df-quickchart-complete:disabled:hover {\n",
              "    background-color: var(--disabled-bg-color);\n",
              "    fill: var(--disabled-fill-color);\n",
              "    box-shadow: none;\n",
              "  }\n",
              "\n",
              "  .colab-df-spinner {\n",
              "    border: 2px solid var(--fill-color);\n",
              "    border-color: transparent;\n",
              "    border-bottom-color: var(--fill-color);\n",
              "    animation:\n",
              "      spin 1s steps(1) infinite;\n",
              "  }\n",
              "\n",
              "  @keyframes spin {\n",
              "    0% {\n",
              "      border-color: transparent;\n",
              "      border-bottom-color: var(--fill-color);\n",
              "      border-left-color: var(--fill-color);\n",
              "    }\n",
              "    20% {\n",
              "      border-color: transparent;\n",
              "      border-left-color: var(--fill-color);\n",
              "      border-top-color: var(--fill-color);\n",
              "    }\n",
              "    30% {\n",
              "      border-color: transparent;\n",
              "      border-left-color: var(--fill-color);\n",
              "      border-top-color: var(--fill-color);\n",
              "      border-right-color: var(--fill-color);\n",
              "    }\n",
              "    40% {\n",
              "      border-color: transparent;\n",
              "      border-right-color: var(--fill-color);\n",
              "      border-top-color: var(--fill-color);\n",
              "    }\n",
              "    60% {\n",
              "      border-color: transparent;\n",
              "      border-right-color: var(--fill-color);\n",
              "    }\n",
              "    80% {\n",
              "      border-color: transparent;\n",
              "      border-right-color: var(--fill-color);\n",
              "      border-bottom-color: var(--fill-color);\n",
              "    }\n",
              "    90% {\n",
              "      border-color: transparent;\n",
              "      border-bottom-color: var(--fill-color);\n",
              "    }\n",
              "  }\n",
              "</style>\n",
              "\n",
              "  <script>\n",
              "    async function quickchart(key) {\n",
              "      const quickchartButtonEl =\n",
              "        document.querySelector('#' + key + ' button');\n",
              "      quickchartButtonEl.disabled = true;  // To prevent multiple clicks.\n",
              "      quickchartButtonEl.classList.add('colab-df-spinner');\n",
              "      try {\n",
              "        const charts = await google.colab.kernel.invokeFunction(\n",
              "            'suggestCharts', [key], {});\n",
              "      } catch (error) {\n",
              "        console.error('Error during call to suggestCharts:', error);\n",
              "      }\n",
              "      quickchartButtonEl.classList.remove('colab-df-spinner');\n",
              "      quickchartButtonEl.classList.add('colab-df-quickchart-complete');\n",
              "    }\n",
              "    (() => {\n",
              "      let quickchartButtonEl =\n",
              "        document.querySelector('#df-ecbab732-9e35-4d56-837b-412e187c5eb7 button');\n",
              "      quickchartButtonEl.style.display =\n",
              "        google.colab.kernel.accessAllowed ? 'block' : 'none';\n",
              "    })();\n",
              "  </script>\n",
              "</div>\n",
              "\n",
              "  <div id=\"id_bac6ab3f-31af-4757-8454-b0b0d4c6f18b\">\n",
              "    <style>\n",
              "      .colab-df-generate {\n",
              "        background-color: #E8F0FE;\n",
              "        border: none;\n",
              "        border-radius: 50%;\n",
              "        cursor: pointer;\n",
              "        display: none;\n",
              "        fill: #1967D2;\n",
              "        height: 32px;\n",
              "        padding: 0 0 0 0;\n",
              "        width: 32px;\n",
              "      }\n",
              "\n",
              "      .colab-df-generate:hover {\n",
              "        background-color: #E2EBFA;\n",
              "        box-shadow: 0px 1px 2px rgba(60, 64, 67, 0.3), 0px 1px 3px 1px rgba(60, 64, 67, 0.15);\n",
              "        fill: #174EA6;\n",
              "      }\n",
              "\n",
              "      [theme=dark] .colab-df-generate {\n",
              "        background-color: #3B4455;\n",
              "        fill: #D2E3FC;\n",
              "      }\n",
              "\n",
              "      [theme=dark] .colab-df-generate:hover {\n",
              "        background-color: #434B5C;\n",
              "        box-shadow: 0px 1px 3px 1px rgba(0, 0, 0, 0.15);\n",
              "        filter: drop-shadow(0px 1px 2px rgba(0, 0, 0, 0.3));\n",
              "        fill: #FFFFFF;\n",
              "      }\n",
              "    </style>\n",
              "    <button class=\"colab-df-generate\" onclick=\"generateWithVariable('datos')\"\n",
              "            title=\"Generate code using this dataframe.\"\n",
              "            style=\"display:none;\">\n",
              "\n",
              "  <svg xmlns=\"http://www.w3.org/2000/svg\" height=\"24px\"viewBox=\"0 0 24 24\"\n",
              "       width=\"24px\">\n",
              "    <path d=\"M7,19H8.4L18.45,9,17,7.55,7,17.6ZM5,21V16.75L18.45,3.32a2,2,0,0,1,2.83,0l1.4,1.43a1.91,1.91,0,0,1,.58,1.4,1.91,1.91,0,0,1-.58,1.4L9.25,21ZM18.45,9,17,7.55Zm-12,3A5.31,5.31,0,0,0,4.9,8.1,5.31,5.31,0,0,0,1,6.5,5.31,5.31,0,0,0,4.9,4.9,5.31,5.31,0,0,0,6.5,1,5.31,5.31,0,0,0,8.1,4.9,5.31,5.31,0,0,0,12,6.5,5.46,5.46,0,0,0,6.5,12Z\"/>\n",
              "  </svg>\n",
              "    </button>\n",
              "    <script>\n",
              "      (() => {\n",
              "      const buttonEl =\n",
              "        document.querySelector('#id_bac6ab3f-31af-4757-8454-b0b0d4c6f18b button.colab-df-generate');\n",
              "      buttonEl.style.display =\n",
              "        google.colab.kernel.accessAllowed ? 'block' : 'none';\n",
              "\n",
              "      buttonEl.onclick = () => {\n",
              "        google.colab.notebook.generateWithVariable('datos');\n",
              "      }\n",
              "      })();\n",
              "    </script>\n",
              "  </div>\n",
              "\n",
              "    </div>\n",
              "  </div>\n"
            ]
          },
          "metadata": {},
          "execution_count": 6
        }
      ]
    },
    {
      "cell_type": "code",
      "metadata": {
        "id": "uxuBbWJlviZQ",
        "colab": {
          "base_uri": "https://localhost:8080/"
        },
        "outputId": "ffabb897-7ff0-45df-e0c3-643841ca18ae"
      },
      "source": [
        "# Creamos un array de tamaño 4x3, formado únicamente por unos (1)\n",
        "unos = np.ones((4,3))\n",
        "unos"
      ],
      "execution_count": 7,
      "outputs": [
        {
          "output_type": "execute_result",
          "data": {
            "text/plain": [
              "array([[1., 1., 1.],\n",
              "       [1., 1., 1.],\n",
              "       [1., 1., 1.],\n",
              "       [1., 1., 1.]])"
            ]
          },
          "metadata": {},
          "execution_count": 7
        }
      ]
    },
    {
      "cell_type": "code",
      "metadata": {
        "id": "lf4ntwB-viZR",
        "colab": {
          "base_uri": "https://localhost:8080/"
        },
        "outputId": "35dfbb61-b54e-49cc-aaf2-7318a4890ef1"
      },
      "source": [
        "# Creamos un array de tamaño 2x4x3, formado únicamente por ceros (0)\n",
        "ceros = np.zeros((2,4,3))\n",
        "ceros"
      ],
      "execution_count": 9,
      "outputs": [
        {
          "output_type": "execute_result",
          "data": {
            "text/plain": [
              "array([[[0., 0., 0.],\n",
              "        [0., 0., 0.],\n",
              "        [0., 0., 0.],\n",
              "        [0., 0., 0.]],\n",
              "\n",
              "       [[0., 0., 0.],\n",
              "        [0., 0., 0.],\n",
              "        [0., 0., 0.],\n",
              "        [0., 0., 0.]]])"
            ]
          },
          "metadata": {},
          "execution_count": 9
        }
      ]
    },
    {
      "cell_type": "code",
      "metadata": {
        "id": "HSJS5vPvviZS",
        "colab": {
          "base_uri": "https://localhost:8080/"
        },
        "outputId": "05f3a790-76b1-46d7-8735-fd88fef024a6"
      },
      "source": [
        "# Creamos un array de números en el rango de 0 a 100, con un paso de 5\n",
        "array_1 = np.arange(0,100,5)\n",
        "array_1"
      ],
      "execution_count": 11,
      "outputs": [
        {
          "output_type": "execute_result",
          "data": {
            "text/plain": [
              "array([ 0,  5, 10, 15, 20, 25, 30, 35, 40, 45, 50, 55, 60, 65, 70, 75, 80,\n",
              "       85, 90, 95])"
            ]
          },
          "metadata": {},
          "execution_count": 11
        }
      ]
    },
    {
      "cell_type": "code",
      "metadata": {
        "id": "IuSvyty3viZT",
        "colab": {
          "base_uri": "https://localhost:8080/"
        },
        "outputId": "b439dbd5-b6df-4e72-e980-9cbbb1d11c0c"
      },
      "source": [
        "# Creamos un array de números aleatorios enteros comprendidos en entre 0 y 10, de tamaño (2, 5)\n",
        "array_2 = np.random.randint(0,10, (2,5))\n",
        "array_2"
      ],
      "execution_count": 13,
      "outputs": [
        {
          "output_type": "execute_result",
          "data": {
            "text/plain": [
              "array([[2, 4, 8, 2, 3],\n",
              "       [3, 4, 5, 5, 7]])"
            ]
          },
          "metadata": {},
          "execution_count": 13
        }
      ]
    },
    {
      "cell_type": "code",
      "metadata": {
        "id": "grncP2mwviZT",
        "colab": {
          "base_uri": "https://localhost:8080/"
        },
        "outputId": "4670f8c2-e739-4e26-a827-e3b8a306b9ef"
      },
      "source": [
        "# Creamos un array de números aleatorios decimales comprendidos en entre 0 y 1, de tamaño (3, 5)\n",
        "array_3 = np.random.random((3,5))\n",
        "array_3"
      ],
      "execution_count": 15,
      "outputs": [
        {
          "output_type": "execute_result",
          "data": {
            "text/plain": [
              "array([[0.21762462, 0.55046086, 0.15719433, 0.80302694, 0.56912766],\n",
              "       [0.31625467, 0.76653083, 0.22724587, 0.98976746, 0.78837054],\n",
              "       [0.34827274, 0.40186244, 0.4323029 , 0.81975909, 0.70831834]])"
            ]
          },
          "metadata": {},
          "execution_count": 15
        }
      ]
    },
    {
      "cell_type": "code",
      "metadata": {
        "id": "8pCexJ6zviZT",
        "colab": {
          "base_uri": "https://localhost:8080/"
        },
        "outputId": "c4b1dd3a-6262-4715-e3b1-7446b005a821"
      },
      "source": [
        "# Establecemos la \"semilla\" de números aleatorios en 27\n",
        "np.random.seed(27)\n",
        "\n",
        "# Creamos un array de números aleatorios enteros comprendidos en entre 0 y 10, de tamaño (3, 5)\n",
        "array_4 = np.random.randint(0,10,(3,5))\n",
        "array_4"
      ],
      "execution_count": 17,
      "outputs": [
        {
          "output_type": "execute_result",
          "data": {
            "text/plain": [
              "array([[3, 8, 8, 8, 0],\n",
              "       [5, 8, 9, 1, 2],\n",
              "       [1, 1, 4, 6, 3]])"
            ]
          },
          "metadata": {},
          "execution_count": 17
        }
      ]
    },
    {
      "cell_type": "markdown",
      "metadata": {
        "id": "N41yqfNDviZU"
      },
      "source": [
        "¿Qué ocurre al correr la última celda nuevamente, a diferencia de las anteriores?"
      ]
    },
    {
      "cell_type": "code",
      "metadata": {
        "id": "acrAc-j4viZY",
        "colab": {
          "base_uri": "https://localhost:8080/"
        },
        "outputId": "7b0e8bf0-0a09-4922-8edb-497a9548fe2b"
      },
      "source": [
        "# Encontramos los valores únicos del array_4\n",
        "np.unique(array_4)"
      ],
      "execution_count": 18,
      "outputs": [
        {
          "output_type": "execute_result",
          "data": {
            "text/plain": [
              "array([0, 1, 2, 3, 4, 5, 6, 8, 9])"
            ]
          },
          "metadata": {},
          "execution_count": 18
        }
      ]
    },
    {
      "cell_type": "code",
      "metadata": {
        "id": "d-pXWguvviZZ",
        "colab": {
          "base_uri": "https://localhost:8080/"
        },
        "outputId": "e9540b25-63d3-4dac-942d-b6da5409e0fc"
      },
      "source": [
        "# Extraemos el elemento de índice 1 del array_4\n",
        "array_4[1]"
      ],
      "execution_count": 19,
      "outputs": [
        {
          "output_type": "execute_result",
          "data": {
            "text/plain": [
              "array([5, 8, 9, 1, 2])"
            ]
          },
          "metadata": {},
          "execution_count": 19
        }
      ]
    },
    {
      "cell_type": "code",
      "metadata": {
        "id": "cVx_UouPviZa",
        "colab": {
          "base_uri": "https://localhost:8080/"
        },
        "outputId": "6e478cd5-fc3a-4bb2-cce1-74eb699ad3c4"
      },
      "source": [
        "# Extraemos las primeras dos filas del array_4\n",
        "array_4[:2]"
      ],
      "execution_count": 20,
      "outputs": [
        {
          "output_type": "execute_result",
          "data": {
            "text/plain": [
              "array([[3, 8, 8, 8, 0],\n",
              "       [5, 8, 9, 1, 2]])"
            ]
          },
          "metadata": {},
          "execution_count": 20
        }
      ]
    },
    {
      "cell_type": "code",
      "metadata": {
        "id": "rIsVaI-JviZa",
        "colab": {
          "base_uri": "https://localhost:8080/"
        },
        "outputId": "99b2fe86-856a-4a4c-a2a2-0a288c3beae4"
      },
      "source": [
        "# Extraemos los dos primeros datos de las primeras dos filas del array_4\n",
        "array_4[:2, :2]"
      ],
      "execution_count": 21,
      "outputs": [
        {
          "output_type": "execute_result",
          "data": {
            "text/plain": [
              "array([[3, 8],\n",
              "       [5, 8]])"
            ]
          },
          "metadata": {},
          "execution_count": 21
        }
      ]
    },
    {
      "cell_type": "code",
      "metadata": {
        "id": "3sw4JCF6viZb"
      },
      "source": [
        "# Creamos dos arrays de tamaño 3x4: uno relleno de números aleatorios entre 0 y 10, y otro relleno de unos\n",
        "array_5 = np.random.randint(0,10, (3,4))\n",
        "array_6 = np.ones((3,4))\n"
      ],
      "execution_count": 25,
      "outputs": []
    },
    {
      "cell_type": "code",
      "metadata": {
        "id": "kVas2wqdviZb",
        "colab": {
          "base_uri": "https://localhost:8080/"
        },
        "outputId": "21ae6243-5128-4674-a36c-4ce2764ad8f4"
      },
      "source": [
        "# invocamos el array_5\n",
        "array_5"
      ],
      "execution_count": 26,
      "outputs": [
        {
          "output_type": "execute_result",
          "data": {
            "text/plain": [
              "array([[1, 2, 0, 3],\n",
              "       [3, 5, 3, 5],\n",
              "       [0, 7, 7, 4]])"
            ]
          },
          "metadata": {},
          "execution_count": 26
        }
      ]
    },
    {
      "cell_type": "code",
      "metadata": {
        "id": "ZnZoUjRIviZb",
        "colab": {
          "base_uri": "https://localhost:8080/"
        },
        "outputId": "73cbeec4-1043-4916-c336-a5289e171585"
      },
      "source": [
        "# invocamos el array_6\n",
        "array_6"
      ],
      "execution_count": 24,
      "outputs": [
        {
          "output_type": "execute_result",
          "data": {
            "text/plain": [
              "array([[1., 1., 1., 1.],\n",
              "       [1., 1., 1., 1.],\n",
              "       [1., 1., 1., 1.]])"
            ]
          },
          "metadata": {},
          "execution_count": 24
        }
      ]
    },
    {
      "cell_type": "code",
      "metadata": {
        "id": "EoBkbsHqviZb",
        "colab": {
          "base_uri": "https://localhost:8080/"
        },
        "outputId": "1305cec5-c06c-44b6-c4d7-8fd294ba6d03"
      },
      "source": [
        "# Sumamos los dos arrays\n",
        "array_5 + array_6"
      ],
      "execution_count": 27,
      "outputs": [
        {
          "output_type": "execute_result",
          "data": {
            "text/plain": [
              "array([[2., 3., 1., 4.],\n",
              "       [4., 6., 4., 6.],\n",
              "       [1., 8., 8., 5.]])"
            ]
          },
          "metadata": {},
          "execution_count": 27
        }
      ]
    },
    {
      "cell_type": "code",
      "metadata": {
        "id": "493z2XKFviZc",
        "colab": {
          "base_uri": "https://localhost:8080/"
        },
        "outputId": "f3a0e261-8875-493b-f33f-7d23f66da160"
      },
      "source": [
        "# Creamos ahora un array de tamaño (4,3) lleno de unos\n",
        "array_7 = np.ones((4,3))\n",
        "array_7"
      ],
      "execution_count": 30,
      "outputs": [
        {
          "output_type": "execute_result",
          "data": {
            "text/plain": [
              "array([[1., 1., 1.],\n",
              "       [1., 1., 1.],\n",
              "       [1., 1., 1.],\n",
              "       [1., 1., 1.]])"
            ]
          },
          "metadata": {},
          "execution_count": 30
        }
      ]
    },
    {
      "cell_type": "code",
      "metadata": {
        "id": "f19RtdoYviZc",
        "colab": {
          "base_uri": "https://localhost:8080/",
          "height": 193
        },
        "outputId": "a7b9b105-d2a3-4d36-8527-86a85a7eac6f"
      },
      "source": [
        "# Intentaremos sumar los arrays 6 y 7\n",
        "array_6 + array_7"
      ],
      "execution_count": 29,
      "outputs": [
        {
          "output_type": "error",
          "ename": "ValueError",
          "evalue": "operands could not be broadcast together with shapes (3,4) (4,3) ",
          "traceback": [
            "\u001b[0;31m---------------------------------------------------------------------------\u001b[0m",
            "\u001b[0;31mValueError\u001b[0m                                Traceback (most recent call last)",
            "\u001b[0;32m<ipython-input-29-e74e21a61c65>\u001b[0m in \u001b[0;36m<cell line: 2>\u001b[0;34m()\u001b[0m\n\u001b[1;32m      1\u001b[0m \u001b[0;31m# Intentaremos sumar los arrays 6 y 7\u001b[0m\u001b[0;34m\u001b[0m\u001b[0;34m\u001b[0m\u001b[0m\n\u001b[0;32m----> 2\u001b[0;31m \u001b[0marray_6\u001b[0m \u001b[0;34m+\u001b[0m \u001b[0marray_7\u001b[0m\u001b[0;34m\u001b[0m\u001b[0;34m\u001b[0m\u001b[0m\n\u001b[0m",
            "\u001b[0;31mValueError\u001b[0m: operands could not be broadcast together with shapes (3,4) (4,3) "
          ]
        }
      ]
    },
    {
      "cell_type": "markdown",
      "metadata": {
        "id": "wZKsfqU4viZc"
      },
      "source": [
        "¿A qué se debe el error anterior? ¿Qué deberíamos tener en cuenta para que no suceda?"
      ]
    },
    {
      "cell_type": "code",
      "metadata": {
        "id": "obwyxLmWviZc",
        "colab": {
          "base_uri": "https://localhost:8080/"
        },
        "outputId": "4cc55ad8-bb4d-4bfd-fc02-f0894bc18af0"
      },
      "source": [
        "# Entonces crearemos otro array de tamaño (4,3) lleno de unos\n",
        "array_8 = np.ones((4,3))\n",
        "array_8"
      ],
      "execution_count": 32,
      "outputs": [
        {
          "output_type": "execute_result",
          "data": {
            "text/plain": [
              "array([[1., 1., 1.],\n",
              "       [1., 1., 1.],\n",
              "       [1., 1., 1.],\n",
              "       [1., 1., 1.]])"
            ]
          },
          "metadata": {},
          "execution_count": 32
        }
      ]
    },
    {
      "cell_type": "code",
      "metadata": {
        "id": "JyBEsQ5NviZd",
        "colab": {
          "base_uri": "https://localhost:8080/"
        },
        "outputId": "10114f6e-6d53-44cf-b3a0-02d57f59be8d"
      },
      "source": [
        "# Restamos el array_8 al array_7\n",
        "array_7 - array_8"
      ],
      "execution_count": 33,
      "outputs": [
        {
          "output_type": "execute_result",
          "data": {
            "text/plain": [
              "array([[0., 0., 0.],\n",
              "       [0., 0., 0.],\n",
              "       [0., 0., 0.],\n",
              "       [0., 0., 0.]])"
            ]
          },
          "metadata": {},
          "execution_count": 33
        }
      ]
    },
    {
      "cell_type": "code",
      "metadata": {
        "id": "utZb5NTzviZd"
      },
      "source": [
        "# Creamos otros dos arrays de tamaño 3x3 con números aleatorios del 1 al 5\n",
        "array_9 = np.random.randint(1,5,(3,3))\n",
        "array_10 = np.random.randint(1,5,(3,3))\n"
      ],
      "execution_count": 35,
      "outputs": []
    },
    {
      "cell_type": "code",
      "metadata": {
        "id": "u1vV-B5C2vSk",
        "colab": {
          "base_uri": "https://localhost:8080/"
        },
        "outputId": "63412dc6-cd11-4b26-df0e-b3cbf1207bcd"
      },
      "source": [
        "# invocamos el array_9\n",
        "array_9"
      ],
      "execution_count": 36,
      "outputs": [
        {
          "output_type": "execute_result",
          "data": {
            "text/plain": [
              "array([[2, 3, 3],\n",
              "       [1, 4, 4],\n",
              "       [1, 4, 2]])"
            ]
          },
          "metadata": {},
          "execution_count": 36
        }
      ]
    },
    {
      "cell_type": "code",
      "metadata": {
        "id": "79rO6fGL2wvE",
        "colab": {
          "base_uri": "https://localhost:8080/"
        },
        "outputId": "42fb4ba8-793a-4a5c-8f88-6583f1808258"
      },
      "source": [
        "# invocamos el array_10\n",
        "array_10"
      ],
      "execution_count": 37,
      "outputs": [
        {
          "output_type": "execute_result",
          "data": {
            "text/plain": [
              "array([[2, 2, 1],\n",
              "       [2, 2, 2],\n",
              "       [3, 4, 3]])"
            ]
          },
          "metadata": {},
          "execution_count": 37
        }
      ]
    },
    {
      "cell_type": "code",
      "metadata": {
        "id": "ZhBCrrbKviZd",
        "colab": {
          "base_uri": "https://localhost:8080/"
        },
        "outputId": "3b324472-6d3b-4797-9bc5-ba0d3609bc47"
      },
      "source": [
        "# Multiplicamos los últimos dos arrays entre sí\n",
        "array_9 * array_10"
      ],
      "execution_count": 38,
      "outputs": [
        {
          "output_type": "execute_result",
          "data": {
            "text/plain": [
              "array([[ 4,  6,  3],\n",
              "       [ 2,  8,  8],\n",
              "       [ 3, 16,  6]])"
            ]
          },
          "metadata": {},
          "execution_count": 38
        }
      ]
    },
    {
      "cell_type": "code",
      "metadata": {
        "id": "-u-zydBZviZd",
        "colab": {
          "base_uri": "https://localhost:8080/"
        },
        "outputId": "95e34a79-30e4-46af-ffdd-0b8a8410dc90"
      },
      "source": [
        "# Elevamos el array_9 al cuadrado\n",
        "array_9**2"
      ],
      "execution_count": 39,
      "outputs": [
        {
          "output_type": "execute_result",
          "data": {
            "text/plain": [
              "array([[ 4,  9,  9],\n",
              "       [ 1, 16, 16],\n",
              "       [ 1, 16,  4]])"
            ]
          },
          "metadata": {},
          "execution_count": 39
        }
      ]
    },
    {
      "cell_type": "code",
      "metadata": {
        "id": "dMEqsjSD3D6F",
        "colab": {
          "base_uri": "https://localhost:8080/"
        },
        "outputId": "7a04c3f0-942c-4f43-91f7-1a5c1a61d93e"
      },
      "source": [
        "# Buscamos la raíz cuadrada del array_10\n",
        "np.sqrt(array_10)"
      ],
      "execution_count": 40,
      "outputs": [
        {
          "output_type": "execute_result",
          "data": {
            "text/plain": [
              "array([[1.41421356, 1.41421356, 1.        ],\n",
              "       [1.41421356, 1.41421356, 1.41421356],\n",
              "       [1.73205081, 2.        , 1.73205081]])"
            ]
          },
          "metadata": {},
          "execution_count": 40
        }
      ]
    },
    {
      "cell_type": "code",
      "metadata": {
        "id": "4TlMFRRFviZd",
        "colab": {
          "base_uri": "https://localhost:8080/"
        },
        "outputId": "a7825569-57ab-48f8-c34e-438a04347995"
      },
      "source": [
        "# Hallamos el promedio de los valores del array_9\n",
        "array_9.mean()"
      ],
      "execution_count": 41,
      "outputs": [
        {
          "output_type": "execute_result",
          "data": {
            "text/plain": [
              "2.6666666666666665"
            ]
          },
          "metadata": {},
          "execution_count": 41
        }
      ]
    },
    {
      "cell_type": "code",
      "metadata": {
        "id": "mu1-ASw7viZd",
        "colab": {
          "base_uri": "https://localhost:8080/"
        },
        "outputId": "40046e41-d1c5-42a1-c5da-1203a84c8bb7"
      },
      "source": [
        "# Hallamos el valor máximo de los valores del array_9\n",
        "array_9.max()"
      ],
      "execution_count": 42,
      "outputs": [
        {
          "output_type": "execute_result",
          "data": {
            "text/plain": [
              "4"
            ]
          },
          "metadata": {},
          "execution_count": 42
        }
      ]
    },
    {
      "cell_type": "code",
      "metadata": {
        "id": "iKAPHmnVviZe",
        "colab": {
          "base_uri": "https://localhost:8080/"
        },
        "outputId": "687a32a2-2759-4c6b-968d-82670cd9a3bb"
      },
      "source": [
        "# Hallamos el valor mínimo de los valores del array_9\n",
        "array_9.min()"
      ],
      "execution_count": 43,
      "outputs": [
        {
          "output_type": "execute_result",
          "data": {
            "text/plain": [
              "1"
            ]
          },
          "metadata": {},
          "execution_count": 43
        }
      ]
    },
    {
      "cell_type": "code",
      "metadata": {
        "id": "K2N9WX6dviZe"
      },
      "source": [
        "# Cambiamos la forma del array_9 por una de 9x1, y lo almacenamos como array_11\n",
        "array_11 = array_9.reshape(9,1)"
      ],
      "execution_count": 44,
      "outputs": []
    },
    {
      "cell_type": "code",
      "metadata": {
        "id": "YM2wKMOk3vrJ",
        "colab": {
          "base_uri": "https://localhost:8080/"
        },
        "outputId": "b22efa55-1665-4baa-da1a-074df2a16965"
      },
      "source": [
        "# invocamos el array_11\n",
        "array_11"
      ],
      "execution_count": 45,
      "outputs": [
        {
          "output_type": "execute_result",
          "data": {
            "text/plain": [
              "array([[2],\n",
              "       [3],\n",
              "       [3],\n",
              "       [1],\n",
              "       [4],\n",
              "       [4],\n",
              "       [1],\n",
              "       [4],\n",
              "       [2]])"
            ]
          },
          "metadata": {},
          "execution_count": 45
        }
      ]
    },
    {
      "cell_type": "code",
      "metadata": {
        "id": "hjv049niviZe",
        "colab": {
          "base_uri": "https://localhost:8080/"
        },
        "outputId": "8c5f34b1-3207-483d-fb2c-d437429aea35"
      },
      "source": [
        "# Transponemos el array_11\n",
        "array_11.T"
      ],
      "execution_count": 46,
      "outputs": [
        {
          "output_type": "execute_result",
          "data": {
            "text/plain": [
              "array([[2, 3, 3, 1, 4, 4, 1, 4, 2]])"
            ]
          },
          "metadata": {},
          "execution_count": 46
        }
      ]
    },
    {
      "cell_type": "code",
      "metadata": {
        "id": "ygIkkZcwviZg",
        "colab": {
          "base_uri": "https://localhost:8080/"
        },
        "outputId": "27babbf1-e7b0-4a53-ffdf-043837071699"
      },
      "source": [
        "# Comparamos el array_9 y el array_10, para saber cuáles elementos del array_9 son mayores a los del array_10\n",
        "array_12 = array_9 > array_10\n",
        "array_12"
      ],
      "execution_count": 47,
      "outputs": [
        {
          "output_type": "execute_result",
          "data": {
            "text/plain": [
              "array([[False,  True,  True],\n",
              "       [False,  True,  True],\n",
              "       [False, False, False]])"
            ]
          },
          "metadata": {},
          "execution_count": 47
        }
      ]
    },
    {
      "cell_type": "markdown",
      "metadata": {
        "id": "-MNVhc50viZg"
      },
      "source": [
        "¿Qué tipos de datos forman parte del array de resultados?"
      ]
    },
    {
      "cell_type": "code",
      "metadata": {
        "id": "JRRyJjDdEUd4",
        "colab": {
          "base_uri": "https://localhost:8080/"
        },
        "outputId": "29604835-4116-4e8b-80d4-7267978f5a6b"
      },
      "source": [
        "# Veamos sus nuevos tipos de datos\n",
        "array_12.dtype"
      ],
      "execution_count": 48,
      "outputs": [
        {
          "output_type": "execute_result",
          "data": {
            "text/plain": [
              "dtype('bool')"
            ]
          },
          "metadata": {},
          "execution_count": 48
        }
      ]
    },
    {
      "cell_type": "code",
      "metadata": {
        "id": "toyvK5rYviZh",
        "colab": {
          "base_uri": "https://localhost:8080/"
        },
        "outputId": "abb20ed7-b34b-457a-e6ef-3956145fd0e7"
      },
      "source": [
        "# Alguno de los elementos del array_9 es igual su equivalente del array_10?\n",
        "array_9 == array_10"
      ],
      "execution_count": 49,
      "outputs": [
        {
          "output_type": "execute_result",
          "data": {
            "text/plain": [
              "array([[ True, False, False],\n",
              "       [False, False, False],\n",
              "       [False,  True, False]])"
            ]
          },
          "metadata": {},
          "execution_count": 49
        }
      ]
    },
    {
      "cell_type": "code",
      "metadata": {
        "id": "FXguC1-UviZg",
        "colab": {
          "base_uri": "https://localhost:8080/"
        },
        "outputId": "038a09fc-8cb3-43b1-b338-72f51dd9bfa2"
      },
      "source": [
        "# Comparamos nuevamente ambos arrays, en esta ocasión con >=\n",
        "array_9 >= array_10"
      ],
      "execution_count": 50,
      "outputs": [
        {
          "output_type": "execute_result",
          "data": {
            "text/plain": [
              "array([[ True,  True,  True],\n",
              "       [False,  True,  True],\n",
              "       [False,  True, False]])"
            ]
          },
          "metadata": {},
          "execution_count": 50
        }
      ]
    },
    {
      "cell_type": "code",
      "metadata": {
        "id": "Ws2bJ0ZEviZg",
        "colab": {
          "base_uri": "https://localhost:8080/"
        },
        "outputId": "09bcb8bc-f76a-4d36-fb05-5b8321d61dff"
      },
      "source": [
        "# Buscamos los elementos del array_9 que son mayores a 2\n",
        "array_9 >2"
      ],
      "execution_count": 51,
      "outputs": [
        {
          "output_type": "execute_result",
          "data": {
            "text/plain": [
              "array([[False,  True,  True],\n",
              "       [False,  True,  True],\n",
              "       [False,  True, False]])"
            ]
          },
          "metadata": {},
          "execution_count": 51
        }
      ]
    },
    {
      "cell_type": "code",
      "metadata": {
        "id": "z4XeFVsoviZh",
        "colab": {
          "base_uri": "https://localhost:8080/"
        },
        "outputId": "ee80a040-5ecc-498f-ad77-7c679e9852ac"
      },
      "source": [
        "# Ordenamos de menor a mayor los elementos dentro del array_9\n",
        "np.sort(array_9)"
      ],
      "execution_count": 52,
      "outputs": [
        {
          "output_type": "execute_result",
          "data": {
            "text/plain": [
              "array([[2, 3, 3],\n",
              "       [1, 4, 4],\n",
              "       [1, 2, 4]])"
            ]
          },
          "metadata": {},
          "execution_count": 52
        }
      ]
    }
  ]
}