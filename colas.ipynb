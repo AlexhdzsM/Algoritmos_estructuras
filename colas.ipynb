{
 "cells": [
  {
   "cell_type": "markdown",
   "source": [
    "Son colecciones de elementos ordenados que únicamente permiten dos acciones:\r\n",
    "\r\n",
    "Añadir un elemento a la cola.\r\n",
    "Sacar un elemento de la cola.\r\n",
    "La peculiaridad es que el primer elemento en entrar es el primero en salir. En inglés se conocen como estructuras FIFO (First In First Out)."
   ],
   "metadata": {}
  },
  {
   "cell_type": "markdown",
   "source": [
    "Debemos importar la colección deque manualmente para crear una cola:\r\n",
    "\r\n"
   ],
   "metadata": {}
  },
  {
   "cell_type": "code",
   "execution_count": 5,
   "source": [
    "from collections import deque\r\n",
    "cola = deque()\r\n",
    "print(cola)"
   ],
   "outputs": [
    {
     "output_type": "stream",
     "name": "stdout",
     "text": [
      "deque([])\n"
     ]
    }
   ],
   "metadata": {}
  },
  {
   "cell_type": "markdown",
   "source": [
    "Podemos añadir elementos al crear la cola pasándolos en una lista:\r\n",
    "\r\n"
   ],
   "metadata": {}
  },
  {
   "cell_type": "code",
   "execution_count": 6,
   "source": [
    "cola = deque(['Hector','Juan','Miguel'])\r\n",
    "print(cola)\r\n"
   ],
   "outputs": [
    {
     "output_type": "stream",
     "name": "stdout",
     "text": [
      "deque(['Hector', 'Juan', 'Miguel'])\n"
     ]
    }
   ],
   "metadata": {}
  },
  {
   "cell_type": "markdown",
   "source": [
    "Luego podemos seguir añadiéndolos utilizando el método append():\r\n",
    "\r\n"
   ],
   "metadata": {}
  },
  {
   "cell_type": "code",
   "execution_count": 7,
   "source": [
    "cola.append('Maria')\r\n",
    "cola.append('Arnaldo')\r\n",
    "print(cola)"
   ],
   "outputs": [
    {
     "output_type": "stream",
     "name": "stdout",
     "text": [
      "deque(['Hector', 'Juan', 'Miguel', 'Maria', 'Arnaldo'])\n"
     ]
    }
   ],
   "metadata": {}
  },
  {
   "cell_type": "markdown",
   "source": [
    "La parte interesante es a la hora de sacar los elementos, pues en esta ocasión utilizaremos el método popleft(). Hace lo mismo que pop() pero los extrae por la parte izquierda, que sería el principio de la cola:"
   ],
   "metadata": {}
  },
  {
   "cell_type": "code",
   "execution_count": 8,
   "source": [
    "print(cola.popleft())\r\n",
    "print(cola)"
   ],
   "outputs": [
    {
     "output_type": "stream",
     "name": "stdout",
     "text": [
      "Hector\n",
      "deque(['Juan', 'Miguel', 'Maria', 'Arnaldo'])\n"
     ]
    }
   ],
   "metadata": {}
  },
  {
   "cell_type": "markdown",
   "source": [
    "Además al igual que antes debemos asegurarnos de almacenar los elementos al sacarlos o los perderemos:"
   ],
   "metadata": {}
  },
  {
   "cell_type": "code",
   "execution_count": 9,
   "source": [
    "persona = cola.popleft()\r\n",
    "print(persona)\r\n",
    "print(cola)"
   ],
   "outputs": [
    {
     "output_type": "stream",
     "name": "stdout",
     "text": [
      "Juan\n",
      "deque(['Miguel', 'Maria', 'Arnaldo'])\n"
     ]
    }
   ],
   "metadata": {}
  }
 ],
 "metadata": {
  "orig_nbformat": 4,
  "language_info": {
   "name": "python",
   "version": "3.9.6",
   "mimetype": "text/x-python",
   "codemirror_mode": {
    "name": "ipython",
    "version": 3
   },
   "pygments_lexer": "ipython3",
   "nbconvert_exporter": "python",
   "file_extension": ".py"
  },
  "kernelspec": {
   "name": "python3",
   "display_name": "Python 3.9.6 64-bit"
  },
  "interpreter": {
   "hash": "dcacb0086e9a4f4eabd41c33bf4faac5ea0a3337ed3f5eff0680afa930572c04"
  }
 },
 "nbformat": 4,
 "nbformat_minor": 2
}